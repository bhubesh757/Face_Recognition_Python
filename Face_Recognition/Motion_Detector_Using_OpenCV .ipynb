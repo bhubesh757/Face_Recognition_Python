{
 "cells": [
  {
   "cell_type": "markdown",
   "metadata": {},
   "source": [
    "# Motion Detector Using OpenCV "
   ]
  },
  {
   "cell_type": "markdown",
   "metadata": {},
   "source": [
    "#### First import all the required files by import"
   ]
  },
  {
   "cell_type": "code",
   "execution_count": 1,
   "metadata": {},
   "outputs": [],
   "source": [
    "import cv2,time,pandas\n",
    "from datetime import datetime\n"
   ]
  },
  {
   "cell_type": "code",
   "execution_count": 3,
   "metadata": {},
   "outputs": [
    {
     "name": "stdout",
     "output_type": "stream",
     "text": [
      "[0, 0]\n"
     ]
    },
    {
     "ename": "NameError",
     "evalue": "name 'times' is not defined",
     "output_type": "error",
     "traceback": [
      "\u001b[1;31m---------------------------------------------------------------------------\u001b[0m",
      "\u001b[1;31mNameError\u001b[0m                                 Traceback (most recent call last)",
      "\u001b[1;32m<ipython-input-3-8b62ceaffd28>\u001b[0m in \u001b[0;36m<module>\u001b[1;34m\u001b[0m\n\u001b[0;32m     64\u001b[0m \u001b[1;33m\u001b[0m\u001b[0m\n\u001b[0;32m     65\u001b[0m \u001b[0mprint\u001b[0m\u001b[1;33m(\u001b[0m\u001b[0mstatus_list\u001b[0m\u001b[1;33m)\u001b[0m\u001b[1;33m\u001b[0m\u001b[1;33m\u001b[0m\u001b[0m\n\u001b[1;32m---> 66\u001b[1;33m \u001b[0mprint\u001b[0m\u001b[1;33m(\u001b[0m\u001b[0mtimes\u001b[0m\u001b[1;33m)\u001b[0m\u001b[1;33m\u001b[0m\u001b[1;33m\u001b[0m\u001b[0m\n\u001b[0m\u001b[0;32m     67\u001b[0m \u001b[1;33m\u001b[0m\u001b[0m\n\u001b[0;32m     68\u001b[0m \u001b[1;33m\u001b[0m\u001b[0m\n",
      "\u001b[1;31mNameError\u001b[0m: name 'times' is not defined"
     ]
    }
   ],
   "source": [
    "first_frame = None\n",
    "status_list = [None,None]\n",
    "time = []\n",
    "df=pandas.DataFrame(columns=[\"Start\" ,\"End\"])\n",
    "\n",
    "\n",
    "video = cv2.VideoCapture(0) # =>create videocapture object to record the video using webcam\n",
    "\n",
    "\n",
    "# while loop\n",
    "while True:\n",
    "    check,frame = video.read()\n",
    "    status = 0\n",
    "    gray = cv2.cvtColor(frame , cv2.COLOR_BGR2GRAY) # => which is used to convert the image to the gray scale\n",
    "    gray = cv2.GaussianBlur(gray , (21,21),0) \n",
    "    # => this converts the gray scale to the gaussian blur\n",
    "    \n",
    "    \n",
    "    if first_frame is None:   \n",
    "        first_frame = gray   # ==>  this stores the frame/ image of the video\n",
    "        continue\n",
    "        \n",
    "    delta_frame = cv2.absdiff(first_frame,gray)\n",
    "    # this calculates diff between the first frame and the second frame \n",
    "    thresh_frame = cv2.threshold(first_frame , 30,255,cv2.THRESH_BINARY)[1]\n",
    "    thresh_frame = cv2.dilate(thresh_frame ,None , iterations = 2)\n",
    "    # countours area . which add the borders to the image \n",
    "    (cnts,_)=cv2.findContours(thresh_frame.copy(), cv2.RETR_EXTERNAL, cv2.CHAIN_APPROX_SIMPLE)\n",
    "        \n",
    "        \n",
    "        \n",
    "    # to remove the noise and the shadows , it keeps the part alone ,for sometime which\n",
    "    # actually which has the greater than 1000 pxl\n",
    "    for contour in cnts:\n",
    "        if cv2.contourArea(contour) < 1000:\n",
    "            continue\n",
    "        (x,y,w,h) = cv2.boundingRect(contour)\n",
    "        cv2.rectangle(frame ,(x,y),(x+w , y+h) , (0,255,0),3)\n",
    "        \n",
    "    status_list.append(status)\n",
    "\n",
    "    status_list=status_list[-2:]\n",
    "\n",
    "\n",
    "    if status_list[-1]==1 and status_list[-2]==0:\n",
    "        times.append(datetime.now())\n",
    "    if status_list[-1]==0 and status_list[-2]==1:\n",
    "        times.append(datetime.now())\n",
    "        \n",
    "    cv2.imshow(\"Gray Frame\",gray)\n",
    "    cv2.imshow(\"Delta Frame\",delta_frame)\n",
    "    cv2.imshow(\"Threshold Frame\",thresh_frame)\n",
    "    cv2.imshow(\"Color Frame\",frame)\n",
    "    \n",
    "    # it creates rectangular box around the object in the frame \n",
    "    \n",
    "    \n",
    "    key = cv2.waitKey(1)\n",
    "    \n",
    "    if key == ord('q'):\n",
    "        if status == 1:\n",
    "            times.append(datetime.now())\n",
    "        break\n",
    "\n",
    "print(status_list)\n",
    "print(times)\n",
    "\n",
    "\n",
    "for i in range(0,len(times),2):\n",
    "    df = df.append({\"Start\" : times[i] , \"End\":times[i+1]},ignore_index = True)\n",
    "    \n",
    "    # store time values in a Dataframe\n",
    "    \n",
    "    df.to_csv(\"Times.csv\")\n",
    "    \n",
    "    video.release()\n",
    "    cv2.destroyAllWindows\n",
    "        "
   ]
  },
  {
   "cell_type": "code",
   "execution_count": 2,
   "metadata": {},
   "outputs": [
    {
     "name": "stdout",
     "output_type": "stream",
     "text": [
      "[1, 1]\n",
      "[datetime.datetime(2020, 8, 6, 9, 4, 19, 646295), datetime.datetime(2020, 8, 6, 9, 4, 21, 339913), datetime.datetime(2020, 8, 6, 9, 4, 21, 715694), datetime.datetime(2020, 8, 6, 9, 5, 25, 345116)]\n"
     ]
    },
    {
     "data": {
      "text/plain": [
       "<function destroyAllWindows>"
      ]
     },
     "execution_count": 2,
     "metadata": {},
     "output_type": "execute_result"
    }
   ],
   "source": [
    "import cv2, time, pandas\n",
    "from datetime import datetime\n",
    "\n",
    "first_frame = None\n",
    "status_list = [None,None]\n",
    "times = []\n",
    "df=pandas.DataFrame(columns=[\"Start\",\"End\"])\n",
    "\n",
    "video = cv2.VideoCapture(0)\n",
    "\n",
    "while True:\n",
    "    check, frame = video.read()\n",
    "    status = 0\n",
    "    gray = cv2.cvtColor(frame,cv2.COLOR_BGR2GRAY)\n",
    "    gray = cv2.GaussianBlur(gray,(21,21),0)\n",
    "\n",
    "    if first_frame is None:\n",
    "        first_frame=gray\n",
    "        continue\n",
    "\n",
    "    delta_frame=cv2.absdiff(first_frame,gray)\n",
    "    thresh_frame=cv2.threshold(delta_frame, 30, 255, cv2.THRESH_BINARY)[1]\n",
    "    thresh_frame=cv2.dilate(thresh_frame, None, iterations=2)\n",
    "\n",
    "    (cnts,_)=cv2.findContours(thresh_frame.copy(), cv2.RETR_EXTERNAL, cv2.CHAIN_APPROX_SIMPLE)\n",
    "\n",
    "    for contour in cnts:\n",
    "        if cv2.contourArea(contour) < 10000:\n",
    "            continue\n",
    "        status=1\n",
    "\n",
    "        (x, y, w, h)=cv2.boundingRect(contour)\n",
    "        cv2.rectangle(frame, (x, y), (x+w, y+h), (0,255,0), 3)\n",
    "    status_list.append(status)\n",
    "\n",
    "    status_list=status_list[-2:]\n",
    "\n",
    "\n",
    "    if status_list[-1]==1 and status_list[-2]==0:\n",
    "        times.append(datetime.now())\n",
    "    if status_list[-1]==0 and status_list[-2]==1:\n",
    "        times.append(datetime.now())\n",
    "\n",
    "\n",
    "    cv2.imshow(\"Gray Frame\",gray)\n",
    "    cv2.imshow(\"Delta Frame\",delta_frame)\n",
    "    cv2.imshow(\"Threshold Frame\",thresh_frame)\n",
    "    cv2.imshow(\"Color Frame\",frame)\n",
    "\n",
    "    key=cv2.waitKey(1)\n",
    "\n",
    "    if key == ord('q'):\n",
    "        if status == 1:\n",
    "            times.append(datetime.now())\n",
    "        break\n",
    "\n",
    "print(status_list)\n",
    "print(times)\n",
    "\n",
    "for i in range(0, len(times), 2):\n",
    "    df = df.append({\"Start\": times[i],\"End\": times[i+1]}, ignore_index=True)\n",
    "\n",
    "df.to_csv(\"Times.csv\")\n",
    "\n",
    "video.release()\n",
    "cv2.destroyAllWindows"
   ]
  },
  {
   "cell_type": "code",
   "execution_count": null,
   "metadata": {},
   "outputs": [],
   "source": []
  },
  {
   "cell_type": "code",
   "execution_count": null,
   "metadata": {},
   "outputs": [],
   "source": []
  },
  {
   "cell_type": "code",
   "execution_count": null,
   "metadata": {},
   "outputs": [],
   "source": []
  },
  {
   "cell_type": "code",
   "execution_count": null,
   "metadata": {},
   "outputs": [],
   "source": []
  },
  {
   "cell_type": "code",
   "execution_count": null,
   "metadata": {},
   "outputs": [],
   "source": []
  }
 ],
 "metadata": {
  "kernelspec": {
   "display_name": "Python 3",
   "language": "python",
   "name": "python3"
  },
  "language_info": {
   "codemirror_mode": {
    "name": "ipython",
    "version": 3
   },
   "file_extension": ".py",
   "mimetype": "text/x-python",
   "name": "python",
   "nbconvert_exporter": "python",
   "pygments_lexer": "ipython3",
   "version": "3.7.3"
  }
 },
 "nbformat": 4,
 "nbformat_minor": 2
}
